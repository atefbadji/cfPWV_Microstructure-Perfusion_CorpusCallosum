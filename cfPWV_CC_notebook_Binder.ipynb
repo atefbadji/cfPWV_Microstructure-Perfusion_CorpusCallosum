{
 "cells": [
  {
   "cell_type": "markdown",
   "metadata": {},
   "source": [
    "# <i class=\"fa fa-folder-open\" style=\"font-size: 2em;\"></i> Arterial stiffness - Microstructure & Perfusion of the corpus callosum \n",
    "***\n"
   ]
  },
  {
   "cell_type": "markdown",
   "metadata": {},
   "source": [
    "<div class=\"alert alert-info\" role=\"alert\">\n",
    "<p style=\"font-size:16px;\"><strong>This notebook contains the code written in R to perform the statistical analysis and plots of the following study:</strong></p>\n",
    "\n",
    "<br>\n",
    "<a href=\"\" target=\"blank\">Arterial stiffness and corpus callosum integrity</a>\n",
    "\n",
    "</div>    "
   ]
  },
  {
   "cell_type": "markdown",
   "metadata": {},
   "source": [
    "<img src=\"https://upload.wikimedia.org/wikipedia/commons/thumb/3/37/Plotly-logo-01-square.png/220px-Plotly-logo-01-square.png\" width=\"130\" height=\"130\" align=\"right\" />\n",
    "\n",
    "<img src=\"https://usercontent2.hubstatic.com/13881141.png\" width=\"130\" height=\"130\" align=\"right\" />\n",
    "\n",
    "# <i class=\"fa fa-compass\" style=\"font-size: 1.5em;\"></i><left> &nbsp; Load all necessary libraries. </left> \n",
    "\n",
    "### R packages are already installed on this BinderHub instance via [ `install.R`](https://github.com/atefbadji/cfPWV_Microstructure-Perfusion_CorpusCallosum-/blob/master/install.R)\n",
    "\n",
    "<p style=\"color:blue;\"><strong>Please run the cell below to load packages.</strong><p>"
   ]
  },
  {
   "cell_type": "code",
   "execution_count": null,
   "metadata": {},
   "outputs": [],
   "source": [
    "# ppcor to perform partial correlations\n",
    "library(\"MASS\")\n",
    "library(\"ppcor\")\n",
    "# ggplot and plotly for data visualization \n",
    "suppressMessages(library(\"ggplot2\"))\n",
    "suppressMessages(library(\"plotly\"))\n",
    "library(\"gridExtra\")\n",
    "# olssr to perform stepwise linear regression\n",
    "suppressMessages(library(\"olsrr\"))\n",
    "print(\"Success: All the packages have been loaded.\")"
   ]
  },
  {
   "cell_type": "markdown",
   "metadata": {},
   "source": [
    "\n",
    "<div class=\"alert alert-warning\" role=\"alert\">\n",
    "<p style=\"font-size:20px;\" ><b>NOTE</b></p>  \n",
    "<br>    \n",
    "\n",
    "<p style=\"font-size:18px;\" >\n",
    "If you'd like to <a href=\"https://github.com/atefbadji/cfPWV_Microstructure-Perfusion_CorpusCallosum-/archive/master.zip\">download GitHub repository</a> and run it locally, please use the <code>cfPWV_CC_notebook_local.ipynb</code> and make sure that you have installed all the dependencies.</p>\n",
    "</div>"
   ]
  },
  {
   "cell_type": "markdown",
   "metadata": {},
   "source": [
    "# <i class=\"fa fa-compass\" style=\"font-size: 1.5em;\"></i><left> &nbsp;Read data.</left> "
   ]
  },
  {
   "cell_type": "code",
   "execution_count": null,
   "metadata": {},
   "outputs": [],
   "source": [
    "data <- read.csv('20190821_Data.csv')\n",
    "colnames(data) <- c('ID','sex','UnderTreatment','age','COND96',\n",
    "                    'cfPWV','SBP','DBP','PP','AIx','CBF_CC','ICVF_CC','ICVF_CI',\n",
    "                    'ICVF_CR','ICVF_SLF','ISOVF_CC','ISOVF_CI','ISOVF_CR','ISOVF_SLF',\n",
    "                    'ISOVF_CC_genu','ISOVF_CC_body','ISOVF_CC_splenium','ICVF_CC_genu','ICVF_CC_body',\n",
    "                    'ICVF_CC_splenium','CBF_CC_genu','CBF_CC_body','CBF_CC_splenium','education',\n",
    "                    'TMTBA')\n",
    "data$COND96<-as.factor(data$COND96)\n",
    "#If you want to visualise the dataframe, uncomment the line below\n",
    "#data or print(data)\n",
    "#if you want to see the dimention of the data (numer of lines, number of colones), uncomment the line below\n",
    "dim(data) "
   ]
  },
  {
   "cell_type": "markdown",
   "metadata": {},
   "source": [
    "\n",
    "# <i class=\"fa fa-compass\" style=\"font-size: 1.5em;\"></i><left> &nbsp; Patients characteristics. </left> "
   ]
  },
  {
   "cell_type": "markdown",
   "metadata": {},
   "source": [
    "<i class=\"fa fa-info-circle\" style=\"font-size: 1.5em;\"></i> &nbsp; The following table shows participants MRI characteristics including a comparison among drug naive participants and those on antihypertensive treatments. A more complete table including a comparison of all demographics, cardiovascular and neuropsychological measures between drug-naive participants and participants on antihypertensive medication can be found in a previous publication (https://www.ncbi.nlm.nih.gov/pubmed/30448213)."
   ]
  },
  {
   "cell_type": "code",
   "execution_count": null,
   "metadata": {},
   "outputs": [],
   "source": [
    "mean(data$ISOVF_CC)\n",
    "sd(data$ISOVF_CC)\n",
    "ISOVF_CC_treated <-data$ISOVF_CC[data$UnderTreatment==1]\n",
    "ISOVF_CC_untreated <-data$ISOVF_CC[data$UnderTreatment==0]\n",
    "mean(ISOVF_CC_treated)\n",
    "sd(ISOVF_CC_treated)\n",
    "mean(ISOVF_CC_untreated)\n",
    "sd(ISOVF_CC_untreated)\n",
    "res1 <- wilcox.test(ISOVF_CC_treated, ISOVF_CC_untreated)\n",
    "res1\n",
    "mean(data$ICVF_CC)\n",
    "sd(data$ICVF_CC)\n",
    "ICVF_CC_treated <-data$ICVF_CC[data$UnderTreatment==1]\n",
    "ICVF_CC_untreated <-data$ICVF_CC[data$UnderTreatment==0]\n",
    "mean(ICVF_CC_treated)\n",
    "sd(ICVF_CC_treated)\n",
    "mean(ICVF_CC_untreated)\n",
    "sd(ICVF_CC_untreated)\n",
    "res2 <- wilcox.test(ICVF_CC_treated, ICVF_CC_untreated)\n",
    "res2\n",
    "mean(data$CBF_CC)\n",
    "sd(data$CBF_CC)\n",
    "CBF_CC_treated <-data$CBF_CC[data$UnderTreatment==1]\n",
    "CBF_CC_untreated <-data$CBF_CC[data$UnderTreatment==0]\n",
    "mean(CBF_CC_treated)\n",
    "sd(CBF_CC_treated)\n",
    "mean(CBF_CC_untreated)\n",
    "sd(CBF_CC_untreated)\n",
    "res3 <- wilcox.test(CBF_CC_treated, CBF_CC_untreated)\n",
    "res3"
   ]
  },
  {
   "cell_type": "markdown",
   "metadata": {},
   "source": [
    "\n",
    "# <i class=\"fa fa-compass\" style=\"font-size: 1.5em;\"></i><left> &nbsp; Remove outliers. </left> \n"
   ]
  },
  {
   "cell_type": "code",
   "execution_count": null,
   "metadata": {},
   "outputs": [],
   "source": [
    "# copy the data to dsBase.iqr\n",
    "dsBase.iqr <- data \n",
    "# create a variable/collection of the column names you want to remove outliers on.\n",
    "vars <- c(\"cfPWV\", \"TMTBA\", \"ISOVF_CC\", \"ICVF_CC\", \"CBF_CC\")\n",
    "# create a variable to store the row id's to be removed\n",
    "Outliers <- c()\n",
    "# loop through the list of columns you specified\n",
    "for (i in vars) {\n",
    "# Get the Min/Max values\n",
    "max <- quantile(dsBase.iqr[,i],0.75, na.rm=TRUE) + (IQR(dsBase.iqr[,i], na.rm=TRUE) * 1.5 )\n",
    "min <- quantile(dsBase.iqr[,i],0.25, na.rm=TRUE) - (IQR(dsBase.iqr[,i], na.rm=TRUE) * 1.5 )\n",
    "# Get the id's using which\n",
    "idx <- which(dsBase.iqr[,i] < min | dsBase.iqr[,i] > max)\n",
    "# Output the number of outliers in each variable\n",
    "print(paste(i, length(idx), sep=''))\n",
    "# Append the outliers list\n",
    "Outliers <- c(Outliers, idx) \n",
    "}\n",
    "cat('Outliers are: ', Outliers)"
   ]
  },
  {
   "cell_type": "code",
   "execution_count": null,
   "metadata": {},
   "outputs": [],
   "source": [
    "# Remove the outliers\n",
    "dsBase.iqr <- dsBase.iqr[-Outliers,]\n",
    "# visualise the new dataframe without outliers\n",
    "#dsBase.iqr\n",
    "print.summary = TRUE"
   ]
  },
  {
   "cell_type": "markdown",
   "metadata": {},
   "source": [
    "\n",
    "# <i class=\"fa fa-compass\" style=\"font-size: 1.5em;\"></i><left> &nbsp; Statistical analyses. </left> "
   ]
  },
  {
   "cell_type": "markdown",
   "metadata": {},
   "source": [
    "### <font color=\"Teal\"> STEP 1: Partial correlation between arterial stiffness (cfPWV), the microstructure (ISOVF_CC, ICVF_CC) and the perfusion (CBF_CC) of the corpus callosum</font>\n",
    "\n",
    "\n",
    "\n"
   ]
  },
  {
   "cell_type": "code",
   "execution_count": null,
   "metadata": {},
   "outputs": [],
   "source": [
    "#1.1: Partial correlation between cfPWV and ISOVF_CC\n",
    "y.data <- data.frame(dsBase.iqr$age,dsBase.iqr$sex)\n",
    "pcor.test(dsBase.iqr$cfPWV, dsBase.iqr$ISOVF_CC, y.data, method = c(\"spearman\"))\n",
    "library(plotly)\n",
    "gplot1 <- ggplot(dsBase.iqr, aes(x=dsBase.iqr$cfPWV, y=dsBase.iqr$ISOVF_CC)) + geom_point(aes(shape=COND96, color=COND96, size=10)) + geom_smooth(method=lm, se=FALSE) + theme_bw()+ theme(text = element_text(size=20)) + xlab(\"cfPWV\") + ylab(\"ISOVF\") \n",
    "# To visualise gplot1 with an interactive plot, uncomment the line below\n",
    "#ggplotly(gplot1)\n",
    "\n",
    "#1.2: Partial correlation between cfPWV and ICVF_CC\n",
    "y.data <- data.frame(dsBase.iqr$age,dsBase.iqr$sex)\n",
    "pcor.test(dsBase.iqr$cfPWV, dsBase.iqr$ICVF_CC, y.data, method = c(\"spearman\"))\n",
    "library(plotly)\n",
    "gplot2 <- ggplot(dsBase.iqr, aes(x=dsBase.iqr$cfPWV, y=dsBase.iqr$ICVF_CC)) + geom_point(aes(shape=COND96, color=COND96, size=10)) + geom_smooth(method=lm, se=FALSE) +theme_bw() + theme(text = element_text(size=20)) + xlab(\"cfPWV\") + ylab(\"ICVF\")\n",
    "# To visualise gplot2 with an interactive plot, uncomment the line below\n",
    "#ggplotly(gplot2)\n",
    "\n",
    "#1.3: Partial correlation between cfPWV and CBF_CC\n",
    "y.data <- data.frame(dsBase.iqr$age,dsBase.iqr$sex)\n",
    "pcor.test(dsBase.iqr$cfPWV, dsBase.iqr$CBF_CC, y.data, method = c(\"spearman\"))\n",
    "library(plotly)\n",
    "gplot3 <- ggplot(dsBase.iqr, aes(x=dsBase.iqr$cfPWV, y=dsBase.iqr$CBF_CC)) + geom_point(aes(shape=COND96, color=COND96, size=10)) + geom_smooth(method=lm, se=FALSE) + theme_bw() + theme(text = element_text(size=20))+ xlab(\"cfPWV\") + ylab(\"CBF\")\n",
    "# To visualise gplot3 with an interactive plot, uncomment the line below\n",
    "ggplotly(gplot3)"
   ]
  },
  {
   "cell_type": "markdown",
   "metadata": {},
   "source": [
    "### <font color=\"Red\"> Figure 1 </font>"
   ]
  },
  {
   "cell_type": "code",
   "execution_count": null,
   "metadata": {},
   "outputs": [],
   "source": [
    "options(repr.plot.width=23, repr.plot.height=4)\n",
    "grid.arrange(gplot1, gplot2, gplot3, nrow=1, ncol=3) "
   ]
  },
  {
   "cell_type": "markdown",
   "metadata": {},
   "source": [
    "### <font color=\"Teal\"> STEP 2: Partial correlation between arterial stiffness (cfPWV), the microstructure and perfusion of the genu, body and splenium of the corpus callosum</font>\n",
    "\n",
    "\n"
   ]
  },
  {
   "cell_type": "code",
   "execution_count": null,
   "metadata": {},
   "outputs": [],
   "source": [
    "#2.1\n",
    "\n",
    "#Partial correlation between cfPWV and ISOVF_CC_genu\n",
    "y.data <- data.frame(dsBase.iqr$age,dsBase.iqr$sex)\n",
    "pcor.test(dsBase.iqr$cfPWV, dsBase.iqr$ISOVF_CC_genu, y.data, method = c(\"spearman\"))\n",
    "library(plotly)\n",
    "gplot1 <- ggplot(dsBase.iqr, aes(x=dsBase.iqr$cfPWV, y=dsBase.iqr$ISOVF_CC_genu)) + geom_point(aes(shape=COND96, color=COND96, size=10)) + geom_smooth(method=lm, se=FALSE) +theme_bw() + theme(text = element_text(size=20)) + xlab(\"cfPWV\") + ylab(\"ISOVF_genu\")\n",
    "#To visualize gplot1 with an interactive plot, uncomment the line below\n",
    "#ggplotly(gplot1)\n",
    "\n",
    "#Partial correlation between cfPWV and ISOVF_CC_body\n",
    "y.data <- data.frame(dsBase.iqr$age,dsBase.iqr$sex)\n",
    "pcor.test(dsBase.iqr$cfPWV, dsBase.iqr$ISOVF_CC_body, y.data, method = c(\"spearman\"))\n",
    "library(plotly)\n",
    "gplot2 <- ggplot(dsBase.iqr, aes(x=dsBase.iqr$cfPWV, y=dsBase.iqr$ISOVF_CC_body)) + geom_point(aes(shape=COND96, color=COND96, size=10)) + geom_smooth(method=lm, se=FALSE) +theme_bw() + theme(text = element_text(size=20)) + xlab(\"cfPWV\") + ylab(\"ISOVF+body\")\n",
    "#To visualize gplot2 with an interactive plot, uncomment the line below\n",
    "#ggplotly(gplot2)\n",
    "\n",
    "#Partial correlation between cfPWV and ISOVF_CC_splenium\n",
    "y.data <- data.frame(dsBase.iqr$age,dsBase.iqr$sex)\n",
    "pcor.test(dsBase.iqr$cfPWV, dsBase.iqr$ISOVF_CC_splenium, y.data, method = c(\"spearman\"))\n",
    "library(plotly)\n",
    "gplot3 <- ggplot(dsBase.iqr, aes(x=dsBase.iqr$cfPWV, y=dsBase.iqr$ISOVF_CC_splenium)) + geom_point(aes(shape=COND96, color=COND96, size=10)) + geom_smooth(method=lm, se=FALSE) +theme_bw() + theme(text = element_text(size=20))+ xlab(\"cfPWV\") + ylab(\"ISOVF_splenium\")\n",
    "#To visualize gplot3 with an interactive plot, uncomment the line below\n",
    "#ggplotly(gplot3)"
   ]
  },
  {
   "cell_type": "code",
   "execution_count": null,
   "metadata": {},
   "outputs": [],
   "source": [
    "#2.2\n",
    "\n",
    "#Partial correlation between cfPWV and ICVF_CC_genu\n",
    "y.data <- data.frame(dsBase.iqr$age,dsBase.iqr$sex)\n",
    "pcor.test(dsBase.iqr$cfPWV, dsBase.iqr$ICVF_CC_genu, y.data, method = c(\"spearman\"))\n",
    "library(plotly)\n",
    "gplot4 <- ggplot(dsBase.iqr, aes(x=dsBase.iqr$cfPWV, y=dsBase.iqr$ICVF_CC_genu)) + geom_point(aes(shape=COND96, color=COND96, size=10)) + geom_smooth(method=lm, se=FALSE) +theme_bw() + theme(text = element_text(size=20))+ xlab(\"cfPWV\") + ylab(\"ICVF_genu\")\n",
    "#To visualize gplot4 with an interactive plot, uncomment the line below\n",
    "#ggplotly(gplot4)\n",
    "\n",
    "#Partial correlation between cfPWV and ICVF_CC_body\n",
    "y.data <- data.frame(dsBase.iqr$age,dsBase.iqr$sex)\n",
    "pcor.test(dsBase.iqr$cfPWV, dsBase.iqr$ICVF_CC_body, y.data, method = c(\"spearman\"))\n",
    "library(plotly)\n",
    "gplot5 <- ggplot(dsBase.iqr, aes(x=dsBase.iqr$cfPWV, y=dsBase.iqr$ICVF_CC_body)) + geom_point(aes(shape=COND96, color=COND96, size=10)) + geom_smooth(method=lm, se=FALSE) +theme_bw() + theme(text = element_text(size=20)) + xlab(\"cfPWV\") + ylab(\"ICVF_body\") \n",
    "#To visualize gplot5 with an interactive plot, uncomment the line below\n",
    "#ggplotly(gplot5)\n",
    "\n",
    "#Partial correlation between cfPWV and ICVF_CC_splenium\n",
    "y.data <- data.frame(dsBase.iqr$age,dsBase.iqr$sex)\n",
    "pcor.test(dsBase.iqr$cfPWV, dsBase.iqr$ICVF_CC_splenium, y.data, method = c(\"spearman\"))\n",
    "library(plotly)\n",
    "gplot6 <- ggplot(dsBase.iqr, aes(x=dsBase.iqr$cfPWV, y=dsBase.iqr$ICVF_CC_splenium)) + geom_point(aes(shape=COND96, color=COND96, size=10)) + geom_smooth(method=lm, se=FALSE) +theme_bw() + theme(text = element_text(size=20)) + xlab(\"cfPWV\") + ylab(\"ICVF_splenium\")\n",
    "#To visualize gplot6 with an interactive plot, uncomment the line below\n",
    "#ggplotly(gplot6)"
   ]
  },
  {
   "cell_type": "code",
   "execution_count": null,
   "metadata": {},
   "outputs": [],
   "source": [
    "#2.3\n",
    "\n",
    "#Partial correlation between cfPWV and CBF_CC_genu\n",
    "y.data <- data.frame(dsBase.iqr$age,dsBase.iqr$sex)\n",
    "pcor.test(dsBase.iqr$cfPWV, dsBase.iqr$CBF_CC_genu, y.data, method = c(\"spearman\"))\n",
    "library(plotly)\n",
    "gplot7 <- ggplot(dsBase.iqr, aes(x=dsBase.iqr$cfPWV, y=dsBase.iqr$CBF_CC_genu)) + geom_point(aes(shape=COND96, color=COND96, size=10)) + geom_smooth(method=lm, se=FALSE) +theme_bw() + theme(text = element_text(size=20)) + xlab(\"cfPWV\") + ylab(\"CBF_genu\")\n",
    "#To visualize gplot7 with an interactive plot, uncomment the line below\n",
    "#ggplotly(gplot7)\n",
    "\n",
    "#Partial correlation between cfPWV and CBF_CC_body\n",
    "y.data <- data.frame(dsBase.iqr$age,dsBase.iqr$sex)\n",
    "pcor.test(dsBase.iqr$cfPWV, dsBase.iqr$CBF_CC_body, y.data, method = c(\"spearman\"))\n",
    "library(plotly)\n",
    "gplot8 <- ggplot(dsBase.iqr, aes(x=dsBase.iqr$cfPWV, y=dsBase.iqr$CBF_CC_body)) + geom_point(aes(shape=COND96, color=COND96, size=10)) + geom_smooth(method=lm, se=FALSE) +theme_bw() + theme(text = element_text(size=20))+ xlab(\"cfPWV\") + ylab(\"CBF_body\")\n",
    "#To visualize gplot8 with an interactive plot, uncomment the line below\n",
    "#ggplotly(gplot8)\n",
    "\n",
    "#Partial correlation between cfPWV and CBF_CC_splenium\n",
    "y.data <- data.frame(dsBase.iqr$age,dsBase.iqr$sex)\n",
    "pcor.test(dsBase.iqr$cfPWV, dsBase.iqr$CBF_CC_splenium, y.data, method = c(\"spearman\"))\n",
    "library(plotly)\n",
    "gplot9 <- ggplot(dsBase.iqr, aes(x=dsBase.iqr$cfPWV, y=dsBase.iqr$CBF_CC_splenium)) + geom_point(aes(shape=COND96, color=COND96, size=10)) + geom_smooth(method=lm, se=FALSE) +theme_bw() + theme(text = element_text(size=20)) + xlab(\"cfPWV\") + ylab(\"CBF_splenium\")\n"
   ]
  },
  {
   "cell_type": "markdown",
   "metadata": {},
   "source": [
    "### <font color=\"Red\"> Figure 2 </font>"
   ]
  },
  {
   "cell_type": "code",
   "execution_count": null,
   "metadata": {},
   "outputs": [],
   "source": [
    "#To visualize gplot9 with an interactive plot, uncomment the line below\n",
    "#ggplotly(gplot9)\n",
    "options(repr.plot.width=23, repr.plot.height=10)\n",
    "grid.arrange(gplot1, gplot2, gplot3, gplot4, gplot5, gplot6, gplot7, gplot8, gplot9, nrow=3, ncol=3)"
   ]
  },
  {
   "cell_type": "markdown",
   "metadata": {},
   "source": [
    "### <font color=\"Teal\"> STEP 3: Stepwise linear regression among indexes of vascular aging (cfPWV, 24h SBP, 24h PP and AIx) on our MRI metrics (ISOVF_CC, ICVF_CC, CBF_CC)</font>\n"
   ]
  },
  {
   "cell_type": "code",
   "execution_count": null,
   "metadata": {},
   "outputs": [],
   "source": [
    "#3.1: Stepwise linear regression with ISOVF_CC as dependent variable\n",
    "model_ISOVF <- lm(dsBase.iqr$ISOVF_CC ~ dsBase.iqr$age + dsBase.iqr$sex + dsBase.iqr$cfPWV + dsBase.iqr$SBP + dsBase.iqr$PP + dsBase.iqr$AIx,data= dsBase.iqr)\n",
    "ols_step_forward_p(model_ISOVF, details=TRUE)\n",
    "summary(model_ISOVF)"
   ]
  },
  {
   "cell_type": "code",
   "execution_count": null,
   "metadata": {},
   "outputs": [],
   "source": [
    "# 3.2: Stepwise linear regression with ICVF_CC as dependent variable\n",
    "model_ICVF = lm(dsBase.iqr$ICVF_CC ~ dsBase.iqr$age + dsBase.iqr$sex + dsBase.iqr$cfPWV + dsBase.iqr$SBP + dsBase.iqr$PP + dsBase.iqr$AIx,data= dsBase.iqr)\n",
    "ols_step_forward_aic(model_ICVF, details=TRUE)\n",
    "summary(stepwise)"
   ]
  },
  {
   "cell_type": "code",
   "execution_count": null,
   "metadata": {},
   "outputs": [],
   "source": [
    "#3.3: Stepwise linear regression with CBF_CC as dependent variable\n",
    "model_CBF = lm(dsBase.iqr$CBF_CC ~ dsBase.iqr$age + dsBase.iqr$sex + dsBase.iqr$cfPWV + dsBase.iqr$SBP + dsBase.iqr$PP + dsBase.iqr$AIx,data= dsBase.iqr)\n",
    "ols_step_forward_aic(model_CBF, details=TRUE)\n",
    "summary(stepwise)"
   ]
  },
  {
   "cell_type": "markdown",
   "metadata": {},
   "source": [
    "### <font color=\"Teal\"> STEP 4: Partial correlation between our MRI metrics (ISOVF_CC, ICVF_CC and CBF_CC) and the performance in cognitive flexibility (TMTB-A)</font>\n"
   ]
  },
  {
   "cell_type": "code",
   "execution_count": null,
   "metadata": {},
   "outputs": [],
   "source": [
    "#4.1: Partial correlation between ISOVF_CC and TMTB-A\n",
    "y.data <- data.frame(dsBase.iqr$age,dsBase.iqr$sex,dsBase.iqr$education)\n",
    "pcor.test(dsBase.iqr$ISOVF_CC, dsBase.iqr$TMTBA, y.data, method = c(\"spearman\"))\n",
    "library(plotly)\n",
    "gplot1 <- ggplot(dsBase.iqr, aes(x=dsBase.iqr$ISOVF_CC, y=dsBase.iqr$TMTBA)) + geom_point(aes(shape=COND96, color=COND96, size=10)) + geom_smooth(method=lm, se=FALSE) + theme_bw() + theme(text = element_text(size=20)) + xlab(\"ISOVF\") + ylab(\"TMTB-A\") \n",
    "#To visualize gplot1 with an interactive plot, uncomment the line below\n",
    "#ggplotly(gplot1)\n",
    "\n",
    "#4.2: Partial correlation between ICVF_CC and TMTB-A\n",
    "y.data <- data.frame(dsBase.iqr$age,dsBase.iqr$sex,dsBase.iqr$education)\n",
    "pcor.test(dsBase.iqr$ICVF_CC, dsBase.iqr$TMTBA, y.data, method = c(\"spearman\"))\n",
    "library(plotly)\n",
    "gplot2 <- ggplot(dsBase.iqr, aes(x=dsBase.iqr$ICVF_CC, y=dsBase.iqr$TMTBA)) + geom_point(aes(shape=COND96, color=COND96, size=10)) + geom_smooth(method=lm, se=FALSE) +theme_bw() + theme(text = element_text(size=20)) + xlab(\"ICVF\") + ylab(\"TMTB-A\") \n",
    "#To visualize gplot2 with an interactive plot, uncomment the line below\n",
    "#ggplotly(gplot2)\n",
    "\n",
    "#4.3: Partial correlation between CBF_CC and TMTB-A\n",
    "y.data <- data.frame(dsBase.iqr$age,dsBase.iqr$sex,dsBase.iqr$education)\n",
    "pcor.test(dsBase.iqr$CBF_CC, dsBase.iqr$TMTBA, y.data, method = c(\"spearman\"))\n",
    "library(plotly)\n",
    "gplot3 <- ggplot(dsBase.iqr, aes(x=dsBase.iqr$CBF_CC, y=dsBase.iqr$TMTBA)) + geom_point(aes(shape=COND96, color=COND96, size=10)) + geom_smooth(method=lm, se=FALSE) +theme_bw() + theme(text = element_text(size=20)) + xlab(\"CBF\") + ylab(\"TMTB-A\") \n",
    "#To visualize gplot3 with an interactive plot, uncomment the line below\n",
    "#ggplotly(gplot3)"
   ]
  },
  {
   "cell_type": "markdown",
   "metadata": {},
   "source": [
    "### <font color=\"Red\"> Figure 3 </font>"
   ]
  },
  {
   "cell_type": "code",
   "execution_count": null,
   "metadata": {},
   "outputs": [],
   "source": [
    "options(repr.plot.width=23, repr.plot.height=4)\n",
    "grid.arrange(gplot1, gplot2, gplot3, nrow=1, ncol=3)"
   ]
  },
  {
   "cell_type": "markdown",
   "metadata": {},
   "source": [
    "### <font color=\"Teal\"> STEP 5: Partial correlation between the microstructure and perfusion of the genu, body and splenium of the corpus callosum with the performance in cognitive flexibility</font>\n"
   ]
  },
  {
   "cell_type": "code",
   "execution_count": null,
   "metadata": {},
   "outputs": [],
   "source": [
    "#5.1\n",
    "\n",
    "#Partial correlation between ISOVF_CC_genu and TMTB-A\n",
    "y.data <- data.frame(dsBase.iqr$age,dsBase.iqr$sex)\n",
    "pcor.test(dsBase.iqr$ISOVF_CC_genu, dsBase.iqr$TMTBA, y.data, method = c(\"spearman\"))\n",
    "library(plotly)\n",
    "gplot1 <- ggplot(dsBase.iqr, aes(x=dsBase.iqr$ISOVF_CC_genu, y=dsBase.iqr$TMTBA)) + geom_point(aes(shape=COND96, color=COND96, size=10)) + geom_smooth(method=lm, se=FALSE) + theme_bw() + theme(text = element_text(size=20)) + xlab(\"ISOVF_genu\") + ylab(\"TMTB-A\")   \n",
    "#To visualize gplot1 with an interactive plot, uncomment the line below\n",
    "#ggplotly(gplot1)\n",
    "\n",
    "#Partial correlation between ISOVF_CC_body and TMTB-A\n",
    "y.data <- data.frame(dsBase.iqr$age,dsBase.iqr$sex)\n",
    "pcor.test(dsBase.iqr$ISOVF_CC_body, dsBase.iqr$TMTBA, y.data, method = c(\"spearman\"))\n",
    "library(plotly)\n",
    "gplot2 <- ggplot(dsBase.iqr, aes(x=dsBase.iqr$ISOVF_CC_body, y=dsBase.iqr$TMTBA)) + geom_point(aes(shape=COND96, color=COND96, size=10)) + geom_smooth(method=lm, se=FALSE) + theme_bw() + theme(text = element_text(size=20))+ xlab(\"ISOVF_body\") + ylab(\"TMTB-A\") \n",
    "#To visualize gplot2 with an interactive plot, uncomment the line below\n",
    "#ggplotly(gplot2)\n",
    "\n",
    "#Partial correlation between ISOVF_CC_splenium and TMTB-A\n",
    "y.data <- data.frame(dsBase.iqr$age,dsBase.iqr$sex)\n",
    "pcor.test(dsBase.iqr$ISOVF_CC_splenium, dsBase.iqr$TMTBA, y.data, method = c(\"spearman\"))\n",
    "library(plotly)\n",
    "gplot3 <- ggplot(dsBase.iqr, aes(x=dsBase.iqr$ISOVF_CC_splenium, y=dsBase.iqr$TMTBA)) + geom_point(aes(shape=COND96, color=COND96, size=10)) + geom_smooth(method=lm, se=FALSE) + theme_bw() + theme(text = element_text(size=20)) + xlab(\"ISOVF_splenium\") + ylab(\"TMTB-A\") \n",
    "#To visualize gplot3 with an interactive plot, uncomment the line below\n",
    "#ggplotly(gplot3)"
   ]
  },
  {
   "cell_type": "code",
   "execution_count": null,
   "metadata": {},
   "outputs": [],
   "source": [
    "#5.2\n",
    "\n",
    "#Partial correlation between ICVF_CC_genu and TMTB-A\n",
    "y.data <- data.frame(dsBase.iqr$age,dsBase.iqr$sex)\n",
    "pcor.test(dsBase.iqr$ICVF_CC_genu, dsBase.iqr$TMTBA, y.data, method = c(\"spearman\"))\n",
    "library(plotly)\n",
    "gplot4 <- ggplot(dsBase.iqr, aes(x=dsBase.iqr$ICVF_CC_genu, y=dsBase.iqr$TMTBA)) + geom_point(aes(shape=COND96, color=COND96, size=10)) + geom_smooth(method=lm, se=FALSE) + theme_bw() + theme(text = element_text(size=20)) + xlab(\"ICVF_genu\") + ylab(\"TMTB-A\")   \n",
    "#To visualize gplot4 with an interactive plot, uncomment the line below\n",
    "#ggplotly(gplot4)\n",
    "\n",
    "#Partial correlation between ICVF_CC_body and TMTB-A\n",
    "y.data <- data.frame(dsBase.iqr$age,dsBase.iqr$sex)\n",
    "pcor.test(dsBase.iqr$ICVF_CC_body, dsBase.iqr$TMTBA, y.data, method = c(\"spearman\"))\n",
    "library(plotly)\n",
    "gplot5 <- ggplot(dsBase.iqr, aes(x=dsBase.iqr$ICVF_CC_body, y=dsBase.iqr$TMTBA)) + geom_point(aes(shape=COND96, color=COND96, size=10)) + geom_smooth(method=lm, se=FALSE) + theme_bw() + theme(text = element_text(size=20))+ xlab(\"ICVF_body\") + ylab(\"TMTB-A\") \n",
    "#To visualize gplot5 with an interactive plot, uncomment the line below\n",
    "#ggplotly(gplot5)\n",
    "\n",
    "#Partial correlation between ICVF_CC_splenium and TMTB-A\n",
    "y.data <- data.frame(dsBase.iqr$age,dsBase.iqr$sex)\n",
    "pcor.test(dsBase.iqr$ICVF_CC_splenium, dsBase.iqr$TMTBA, y.data, method = c(\"spearman\"))\n",
    "library(plotly)\n",
    "gplot6 <- ggplot(dsBase.iqr, aes(x=dsBase.iqr$ICVF_CC_splenium, y=dsBase.iqr$TMTBA)) + geom_point(aes(shape=COND96, color=COND96, size=10)) + geom_smooth(method=lm, se=FALSE) + theme_bw() + theme(text = element_text(size=20)) + xlab(\"ICVF_splenium\") + ylab(\"TMTB-A\") \n",
    "#To visualize gplot6 with an interactive plot, uncomment the line below\n",
    "#ggplotly(gplot6)"
   ]
  },
  {
   "cell_type": "code",
   "execution_count": null,
   "metadata": {},
   "outputs": [],
   "source": [
    "#5.3\n",
    "\n",
    "#Partial correlation between CBF_CC_genu and TMTB-A\n",
    "y.data <- data.frame(dsBase.iqr$age,dsBase.iqr$sex)\n",
    "pcor.test(dsBase.iqr$CBF_CC_genu, dsBase.iqr$TMTBA, y.data, method = c(\"spearman\"))\n",
    "library(plotly)\n",
    "gplot7 <- ggplot(dsBase.iqr, aes(x=dsBase.iqr$CBF_CC_genu, y=dsBase.iqr$TMTBA)) + geom_point(aes(shape=COND96, color=COND96, size=10)) + geom_smooth(method=lm, se=FALSE) + theme_bw()+ theme(text = element_text(size=20)) + xlab(\"CBF_genu\") + ylab(\"TMTB-A\")   \n",
    "#To visualize gplot7 with an interactive plot, uncomment the line below\n",
    "#ggplotly(gplot7)\n",
    "\n",
    "#Partial correlation between CBF_CC_body and TMTB-A\n",
    "y.data <- data.frame(dsBase.iqr$age,dsBase.iqr$sex)\n",
    "pcor.test(dsBase.iqr$CBF_CC_body, dsBase.iqr$TMTBA, y.data, method = c(\"spearman\"))\n",
    "library(plotly)\n",
    "gplot8 <- ggplot(dsBase.iqr, aes(x=dsBase.iqr$CBF_CC_body, y=dsBase.iqr$TMTBA)) + geom_point(aes(shape=COND96, color=COND96, size=10)) + geom_smooth(method=lm, se=FALSE) + theme_bw() + theme(text = element_text(size=20))+ xlab(\"CBF_body\") + ylab(\"TMTB-A\") \n",
    "#To visualize gplot8 with an interactive plot, uncomment the line below\n",
    "#ggplotly(gplot8)\n",
    "\n",
    "#Partial correlation between ICVF_CC_splenium and TMTB-A\n",
    "y.data <- data.frame(dsBase.iqr$age,dsBase.iqr$sex)\n",
    "pcor.test(dsBase.iqr$CBF_CC_splenium, dsBase.iqr$TMTBA, y.data, method = c(\"spearman\"))\n",
    "library(plotly)\n",
    "gplot9 <- ggplot(dsBase.iqr, aes(x=dsBase.iqr$CBF_CC_splenium, y=dsBase.iqr$TMTBA)) + geom_point(aes(shape=COND96, color=COND96, size=10)) + geom_smooth(method=lm, se=FALSE) + theme_bw() + theme(text = element_text(size=20)) + xlab(\"CBF_splenium\") + ylab(\"TMTB-A\") \n",
    "#To visualize gplot9 with an interactive plot, uncomment the line below\n",
    "#ggplotly(gplot9)\n"
   ]
  },
  {
   "cell_type": "markdown",
   "metadata": {},
   "source": [
    "### <font color=\"Red\"> Figure 4 </font>"
   ]
  },
  {
   "cell_type": "code",
   "execution_count": null,
   "metadata": {},
   "outputs": [],
   "source": [
    "options(repr.plot.width=23, repr.plot.height=10)\n",
    "grid.arrange(gplot1, gplot2, gplot3, gplot4, gplot5, gplot6, gplot7, gplot8, gplot9, nrow=3, ncol=3)"
   ]
  },
  {
   "cell_type": "markdown",
   "metadata": {},
   "source": [
    "<img src=\"copyright_neuropoly.jpg\">\""
   ]
  },
  {
   "cell_type": "code",
   "execution_count": null,
   "metadata": {},
   "outputs": [],
   "source": []
  }
 ],
 "metadata": {
  "kernelspec": {
   "display_name": "R",
   "language": "R",
   "name": "ir"
  },
  "language_info": {
   "codemirror_mode": "r",
   "file_extension": ".r",
   "mimetype": "text/x-r-source",
   "name": "R",
   "pygments_lexer": "r",
   "version": "3.6.1"
  }
 },
 "nbformat": 4,
 "nbformat_minor": 2
}
